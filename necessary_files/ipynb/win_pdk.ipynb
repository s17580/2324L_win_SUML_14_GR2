{
  "nbformat": 4,
  "nbformat_minor": 0,
  "metadata": {
    "colab": {
      "provenance": []
    },
    "kernelspec": {
      "name": "python3",
      "display_name": "Python 3"
    },
    "language_info": {
      "name": "python"
    }
  },
  "cells": [
    {
      "cell_type": "markdown",
      "source": [
        "#Importowanie bibliotek"
      ],
      "metadata": {
        "id": "JWiP10QWCFND"
      }
    },
    {
      "cell_type": "code",
      "execution_count": 67,
      "metadata": {
        "id": "-mo3hX-TBs-a"
      },
      "outputs": [],
      "source": [
        "import pandas as pd\n",
        "import numpy as np\n",
        "import os\n",
        "import pickle\n",
        "import matplotlib.pyplot as plt\n",
        "import seaborn as sns\n",
        "import cufflinks as cf\n",
        "\n",
        "from sklearn.tree import DecisionTreeClassifier\n",
        "from sklearn.ensemble import RandomForestClassifier\n",
        "from sklearn.linear_model import LogisticRegression\n",
        "from sklearn.model_selection import train_test_split\n",
        "from sklearn.metrics import classification_report, confusion_matrix,accuracy_score\n",
        "from sklearn.preprocessing import LabelEncoder\n",
        "from sklearn.svm import SVC\n",
        "from xgboost import XGBClassifier"
      ]
    },
    {
      "cell_type": "code",
      "source": [
        "print(os.getcwd())"
      ],
      "metadata": {
        "id": "kTh2SEcXC9NQ",
        "colab": {
          "base_uri": "https://localhost:8080/"
        },
        "outputId": "c9d5d8e9-d575-4f26-b817-88aa30d5c6af"
      },
      "execution_count": 68,
      "outputs": [
        {
          "output_type": "stream",
          "name": "stdout",
          "text": [
            "/content/drive/MyDrive/Colab Notebooks/Football\n"
          ]
        }
      ]
    },
    {
      "cell_type": "code",
      "source": [
        "from google.colab import drive\n",
        "drive.mount(\"/content/drive\")"
      ],
      "metadata": {
        "id": "l_Z7V9oPC-YI",
        "colab": {
          "base_uri": "https://localhost:8080/"
        },
        "outputId": "ed614907-ffa5-48b6-cd25-eb32118db39b"
      },
      "execution_count": 69,
      "outputs": [
        {
          "output_type": "stream",
          "name": "stdout",
          "text": [
            "Drive already mounted at /content/drive; to attempt to forcibly remount, call drive.mount(\"/content/drive\", force_remount=True).\n"
          ]
        }
      ]
    },
    {
      "cell_type": "code",
      "source": [
        "os.chdir(\"/content/drive/MyDrive/Colab Notebooks/Football\")"
      ],
      "metadata": {
        "id": "REwcWw5IC_vM"
      },
      "execution_count": 70,
      "outputs": []
    },
    {
      "cell_type": "markdown",
      "source": [
        "#Przygotowanie danych"
      ],
      "metadata": {
        "id": "54CjIBTJDSJ2"
      }
    },
    {
      "cell_type": "code",
      "source": [
        "results = pd.read_csv(\"results.csv\")"
      ],
      "metadata": {
        "id": "Ba-wvNgtDU2T"
      },
      "execution_count": 71,
      "outputs": []
    },
    {
      "cell_type": "code",
      "source": [
        "results.head()"
      ],
      "metadata": {
        "collapsed": true,
        "id": "WCwRmRgzDuo9",
        "colab": {
          "base_uri": "https://localhost:8080/",
          "height": 206
        },
        "outputId": "cc73a755-4633-406a-eec3-7d7816d0a697"
      },
      "execution_count": 72,
      "outputs": [
        {
          "output_type": "execute_result",
          "data": {
            "text/plain": [
              "         date home_team away_team  home_score  away_score tournament     city  \\\n",
              "0  1872-11-30  Scotland   England           0           0   Friendly  Glasgow   \n",
              "1  1873-03-08   England  Scotland           4           2   Friendly   London   \n",
              "2  1874-03-07  Scotland   England           2           1   Friendly  Glasgow   \n",
              "3  1875-03-06   England  Scotland           2           2   Friendly   London   \n",
              "4  1876-03-04  Scotland   England           3           0   Friendly  Glasgow   \n",
              "\n",
              "    country  neutral  \n",
              "0  Scotland    False  \n",
              "1   England    False  \n",
              "2  Scotland    False  \n",
              "3   England    False  \n",
              "4  Scotland    False  "
            ],
            "text/html": [
              "\n",
              "  <div id=\"df-dc26c73a-5230-452a-9cc5-3ee4487d7324\" class=\"colab-df-container\">\n",
              "    <div>\n",
              "<style scoped>\n",
              "    .dataframe tbody tr th:only-of-type {\n",
              "        vertical-align: middle;\n",
              "    }\n",
              "\n",
              "    .dataframe tbody tr th {\n",
              "        vertical-align: top;\n",
              "    }\n",
              "\n",
              "    .dataframe thead th {\n",
              "        text-align: right;\n",
              "    }\n",
              "</style>\n",
              "<table border=\"1\" class=\"dataframe\">\n",
              "  <thead>\n",
              "    <tr style=\"text-align: right;\">\n",
              "      <th></th>\n",
              "      <th>date</th>\n",
              "      <th>home_team</th>\n",
              "      <th>away_team</th>\n",
              "      <th>home_score</th>\n",
              "      <th>away_score</th>\n",
              "      <th>tournament</th>\n",
              "      <th>city</th>\n",
              "      <th>country</th>\n",
              "      <th>neutral</th>\n",
              "    </tr>\n",
              "  </thead>\n",
              "  <tbody>\n",
              "    <tr>\n",
              "      <th>0</th>\n",
              "      <td>1872-11-30</td>\n",
              "      <td>Scotland</td>\n",
              "      <td>England</td>\n",
              "      <td>0</td>\n",
              "      <td>0</td>\n",
              "      <td>Friendly</td>\n",
              "      <td>Glasgow</td>\n",
              "      <td>Scotland</td>\n",
              "      <td>False</td>\n",
              "    </tr>\n",
              "    <tr>\n",
              "      <th>1</th>\n",
              "      <td>1873-03-08</td>\n",
              "      <td>England</td>\n",
              "      <td>Scotland</td>\n",
              "      <td>4</td>\n",
              "      <td>2</td>\n",
              "      <td>Friendly</td>\n",
              "      <td>London</td>\n",
              "      <td>England</td>\n",
              "      <td>False</td>\n",
              "    </tr>\n",
              "    <tr>\n",
              "      <th>2</th>\n",
              "      <td>1874-03-07</td>\n",
              "      <td>Scotland</td>\n",
              "      <td>England</td>\n",
              "      <td>2</td>\n",
              "      <td>1</td>\n",
              "      <td>Friendly</td>\n",
              "      <td>Glasgow</td>\n",
              "      <td>Scotland</td>\n",
              "      <td>False</td>\n",
              "    </tr>\n",
              "    <tr>\n",
              "      <th>3</th>\n",
              "      <td>1875-03-06</td>\n",
              "      <td>England</td>\n",
              "      <td>Scotland</td>\n",
              "      <td>2</td>\n",
              "      <td>2</td>\n",
              "      <td>Friendly</td>\n",
              "      <td>London</td>\n",
              "      <td>England</td>\n",
              "      <td>False</td>\n",
              "    </tr>\n",
              "    <tr>\n",
              "      <th>4</th>\n",
              "      <td>1876-03-04</td>\n",
              "      <td>Scotland</td>\n",
              "      <td>England</td>\n",
              "      <td>3</td>\n",
              "      <td>0</td>\n",
              "      <td>Friendly</td>\n",
              "      <td>Glasgow</td>\n",
              "      <td>Scotland</td>\n",
              "      <td>False</td>\n",
              "    </tr>\n",
              "  </tbody>\n",
              "</table>\n",
              "</div>\n",
              "    <div class=\"colab-df-buttons\">\n",
              "\n",
              "  <div class=\"colab-df-container\">\n",
              "    <button class=\"colab-df-convert\" onclick=\"convertToInteractive('df-dc26c73a-5230-452a-9cc5-3ee4487d7324')\"\n",
              "            title=\"Convert this dataframe to an interactive table.\"\n",
              "            style=\"display:none;\">\n",
              "\n",
              "  <svg xmlns=\"http://www.w3.org/2000/svg\" height=\"24px\" viewBox=\"0 -960 960 960\">\n",
              "    <path d=\"M120-120v-720h720v720H120Zm60-500h600v-160H180v160Zm220 220h160v-160H400v160Zm0 220h160v-160H400v160ZM180-400h160v-160H180v160Zm440 0h160v-160H620v160ZM180-180h160v-160H180v160Zm440 0h160v-160H620v160Z\"/>\n",
              "  </svg>\n",
              "    </button>\n",
              "\n",
              "  <style>\n",
              "    .colab-df-container {\n",
              "      display:flex;\n",
              "      gap: 12px;\n",
              "    }\n",
              "\n",
              "    .colab-df-convert {\n",
              "      background-color: #E8F0FE;\n",
              "      border: none;\n",
              "      border-radius: 50%;\n",
              "      cursor: pointer;\n",
              "      display: none;\n",
              "      fill: #1967D2;\n",
              "      height: 32px;\n",
              "      padding: 0 0 0 0;\n",
              "      width: 32px;\n",
              "    }\n",
              "\n",
              "    .colab-df-convert:hover {\n",
              "      background-color: #E2EBFA;\n",
              "      box-shadow: 0px 1px 2px rgba(60, 64, 67, 0.3), 0px 1px 3px 1px rgba(60, 64, 67, 0.15);\n",
              "      fill: #174EA6;\n",
              "    }\n",
              "\n",
              "    .colab-df-buttons div {\n",
              "      margin-bottom: 4px;\n",
              "    }\n",
              "\n",
              "    [theme=dark] .colab-df-convert {\n",
              "      background-color: #3B4455;\n",
              "      fill: #D2E3FC;\n",
              "    }\n",
              "\n",
              "    [theme=dark] .colab-df-convert:hover {\n",
              "      background-color: #434B5C;\n",
              "      box-shadow: 0px 1px 3px 1px rgba(0, 0, 0, 0.15);\n",
              "      filter: drop-shadow(0px 1px 2px rgba(0, 0, 0, 0.3));\n",
              "      fill: #FFFFFF;\n",
              "    }\n",
              "  </style>\n",
              "\n",
              "    <script>\n",
              "      const buttonEl =\n",
              "        document.querySelector('#df-dc26c73a-5230-452a-9cc5-3ee4487d7324 button.colab-df-convert');\n",
              "      buttonEl.style.display =\n",
              "        google.colab.kernel.accessAllowed ? 'block' : 'none';\n",
              "\n",
              "      async function convertToInteractive(key) {\n",
              "        const element = document.querySelector('#df-dc26c73a-5230-452a-9cc5-3ee4487d7324');\n",
              "        const dataTable =\n",
              "          await google.colab.kernel.invokeFunction('convertToInteractive',\n",
              "                                                    [key], {});\n",
              "        if (!dataTable) return;\n",
              "\n",
              "        const docLinkHtml = 'Like what you see? Visit the ' +\n",
              "          '<a target=\"_blank\" href=https://colab.research.google.com/notebooks/data_table.ipynb>data table notebook</a>'\n",
              "          + ' to learn more about interactive tables.';\n",
              "        element.innerHTML = '';\n",
              "        dataTable['output_type'] = 'display_data';\n",
              "        await google.colab.output.renderOutput(dataTable, element);\n",
              "        const docLink = document.createElement('div');\n",
              "        docLink.innerHTML = docLinkHtml;\n",
              "        element.appendChild(docLink);\n",
              "      }\n",
              "    </script>\n",
              "  </div>\n",
              "\n",
              "\n",
              "<div id=\"df-e2da2eda-eff6-4b8f-adb0-0e94313db9c2\">\n",
              "  <button class=\"colab-df-quickchart\" onclick=\"quickchart('df-e2da2eda-eff6-4b8f-adb0-0e94313db9c2')\"\n",
              "            title=\"Suggest charts\"\n",
              "            style=\"display:none;\">\n",
              "\n",
              "<svg xmlns=\"http://www.w3.org/2000/svg\" height=\"24px\"viewBox=\"0 0 24 24\"\n",
              "     width=\"24px\">\n",
              "    <g>\n",
              "        <path d=\"M19 3H5c-1.1 0-2 .9-2 2v14c0 1.1.9 2 2 2h14c1.1 0 2-.9 2-2V5c0-1.1-.9-2-2-2zM9 17H7v-7h2v7zm4 0h-2V7h2v10zm4 0h-2v-4h2v4z\"/>\n",
              "    </g>\n",
              "</svg>\n",
              "  </button>\n",
              "\n",
              "<style>\n",
              "  .colab-df-quickchart {\n",
              "      --bg-color: #E8F0FE;\n",
              "      --fill-color: #1967D2;\n",
              "      --hover-bg-color: #E2EBFA;\n",
              "      --hover-fill-color: #174EA6;\n",
              "      --disabled-fill-color: #AAA;\n",
              "      --disabled-bg-color: #DDD;\n",
              "  }\n",
              "\n",
              "  [theme=dark] .colab-df-quickchart {\n",
              "      --bg-color: #3B4455;\n",
              "      --fill-color: #D2E3FC;\n",
              "      --hover-bg-color: #434B5C;\n",
              "      --hover-fill-color: #FFFFFF;\n",
              "      --disabled-bg-color: #3B4455;\n",
              "      --disabled-fill-color: #666;\n",
              "  }\n",
              "\n",
              "  .colab-df-quickchart {\n",
              "    background-color: var(--bg-color);\n",
              "    border: none;\n",
              "    border-radius: 50%;\n",
              "    cursor: pointer;\n",
              "    display: none;\n",
              "    fill: var(--fill-color);\n",
              "    height: 32px;\n",
              "    padding: 0;\n",
              "    width: 32px;\n",
              "  }\n",
              "\n",
              "  .colab-df-quickchart:hover {\n",
              "    background-color: var(--hover-bg-color);\n",
              "    box-shadow: 0 1px 2px rgba(60, 64, 67, 0.3), 0 1px 3px 1px rgba(60, 64, 67, 0.15);\n",
              "    fill: var(--button-hover-fill-color);\n",
              "  }\n",
              "\n",
              "  .colab-df-quickchart-complete:disabled,\n",
              "  .colab-df-quickchart-complete:disabled:hover {\n",
              "    background-color: var(--disabled-bg-color);\n",
              "    fill: var(--disabled-fill-color);\n",
              "    box-shadow: none;\n",
              "  }\n",
              "\n",
              "  .colab-df-spinner {\n",
              "    border: 2px solid var(--fill-color);\n",
              "    border-color: transparent;\n",
              "    border-bottom-color: var(--fill-color);\n",
              "    animation:\n",
              "      spin 1s steps(1) infinite;\n",
              "  }\n",
              "\n",
              "  @keyframes spin {\n",
              "    0% {\n",
              "      border-color: transparent;\n",
              "      border-bottom-color: var(--fill-color);\n",
              "      border-left-color: var(--fill-color);\n",
              "    }\n",
              "    20% {\n",
              "      border-color: transparent;\n",
              "      border-left-color: var(--fill-color);\n",
              "      border-top-color: var(--fill-color);\n",
              "    }\n",
              "    30% {\n",
              "      border-color: transparent;\n",
              "      border-left-color: var(--fill-color);\n",
              "      border-top-color: var(--fill-color);\n",
              "      border-right-color: var(--fill-color);\n",
              "    }\n",
              "    40% {\n",
              "      border-color: transparent;\n",
              "      border-right-color: var(--fill-color);\n",
              "      border-top-color: var(--fill-color);\n",
              "    }\n",
              "    60% {\n",
              "      border-color: transparent;\n",
              "      border-right-color: var(--fill-color);\n",
              "    }\n",
              "    80% {\n",
              "      border-color: transparent;\n",
              "      border-right-color: var(--fill-color);\n",
              "      border-bottom-color: var(--fill-color);\n",
              "    }\n",
              "    90% {\n",
              "      border-color: transparent;\n",
              "      border-bottom-color: var(--fill-color);\n",
              "    }\n",
              "  }\n",
              "</style>\n",
              "\n",
              "  <script>\n",
              "    async function quickchart(key) {\n",
              "      const quickchartButtonEl =\n",
              "        document.querySelector('#' + key + ' button');\n",
              "      quickchartButtonEl.disabled = true;  // To prevent multiple clicks.\n",
              "      quickchartButtonEl.classList.add('colab-df-spinner');\n",
              "      try {\n",
              "        const charts = await google.colab.kernel.invokeFunction(\n",
              "            'suggestCharts', [key], {});\n",
              "      } catch (error) {\n",
              "        console.error('Error during call to suggestCharts:', error);\n",
              "      }\n",
              "      quickchartButtonEl.classList.remove('colab-df-spinner');\n",
              "      quickchartButtonEl.classList.add('colab-df-quickchart-complete');\n",
              "    }\n",
              "    (() => {\n",
              "      let quickchartButtonEl =\n",
              "        document.querySelector('#df-e2da2eda-eff6-4b8f-adb0-0e94313db9c2 button');\n",
              "      quickchartButtonEl.style.display =\n",
              "        google.colab.kernel.accessAllowed ? 'block' : 'none';\n",
              "    })();\n",
              "  </script>\n",
              "</div>\n",
              "    </div>\n",
              "  </div>\n"
            ],
            "application/vnd.google.colaboratory.intrinsic+json": {
              "type": "dataframe",
              "variable_name": "results",
              "summary": "{\n  \"name\": \"results\",\n  \"rows\": 46442,\n  \"fields\": [\n    {\n      \"column\": \"date\",\n      \"properties\": {\n        \"dtype\": \"object\",\n        \"num_unique_values\": 15960,\n        \"samples\": [\n          \"1935-08-21\",\n          \"1963-12-15\",\n          \"1963-10-30\"\n        ],\n        \"semantic_type\": \"\",\n        \"description\": \"\"\n      }\n    },\n    {\n      \"column\": \"home_team\",\n      \"properties\": {\n        \"dtype\": \"category\",\n        \"num_unique_values\": 327,\n        \"samples\": [\n          \"Turkmenistan\",\n          \"Fiji\",\n          \"Gotland\"\n        ],\n        \"semantic_type\": \"\",\n        \"description\": \"\"\n      }\n    },\n    {\n      \"column\": \"away_team\",\n      \"properties\": {\n        \"dtype\": \"category\",\n        \"num_unique_values\": 321,\n        \"samples\": [\n          \"Bermuda\",\n          \"Myanmar\",\n          \"China\"\n        ],\n        \"semantic_type\": \"\",\n        \"description\": \"\"\n      }\n    },\n    {\n      \"column\": \"home_score\",\n      \"properties\": {\n        \"dtype\": \"number\",\n        \"std\": 1,\n        \"min\": 0,\n        \"max\": 31,\n        \"num_unique_values\": 26,\n        \"samples\": [\n          6,\n          21,\n          0\n        ],\n        \"semantic_type\": \"\",\n        \"description\": \"\"\n      }\n    },\n    {\n      \"column\": \"away_score\",\n      \"properties\": {\n        \"dtype\": \"number\",\n        \"std\": 1,\n        \"min\": 0,\n        \"max\": 21,\n        \"num_unique_values\": 22,\n        \"samples\": [\n          0,\n          12,\n          8\n        ],\n        \"semantic_type\": \"\",\n        \"description\": \"\"\n      }\n    },\n    {\n      \"column\": \"tournament\",\n      \"properties\": {\n        \"dtype\": \"category\",\n        \"num_unique_values\": 164,\n        \"samples\": [\n          \"Tynwald Hill Tournament\",\n          \"Prime Minister's Cup\",\n          \"Pacific Games\"\n        ],\n        \"semantic_type\": \"\",\n        \"description\": \"\"\n      }\n    },\n    {\n      \"column\": \"city\",\n      \"properties\": {\n        \"dtype\": \"category\",\n        \"num_unique_values\": 2076,\n        \"samples\": [\n          \"Victoria\",\n          \"Garoua\",\n          \"Montego Bay\"\n        ],\n        \"semantic_type\": \"\",\n        \"description\": \"\"\n      }\n    },\n    {\n      \"column\": \"country\",\n      \"properties\": {\n        \"dtype\": \"category\",\n        \"num_unique_values\": 271,\n        \"samples\": [\n          \"Canada\",\n          \"Portuguese Guinea\",\n          \"Afghanistan\"\n        ],\n        \"semantic_type\": \"\",\n        \"description\": \"\"\n      }\n    },\n    {\n      \"column\": \"neutral\",\n      \"properties\": {\n        \"dtype\": \"boolean\",\n        \"num_unique_values\": 2,\n        \"samples\": [\n          true,\n          false\n        ],\n        \"semantic_type\": \"\",\n        \"description\": \"\"\n      }\n    }\n  ]\n}"
            }
          },
          "metadata": {},
          "execution_count": 72
        }
      ]
    },
    {
      "cell_type": "code",
      "source": [
        "sns.heatmap(results.isnull(), yticklabels=False, cbar=False, cmap=\"viridis\")"
      ],
      "metadata": {
        "id": "NCwYC1kBEHih",
        "colab": {
          "base_uri": "https://localhost:8080/",
          "height": 516
        },
        "outputId": "a52e96c7-82be-4d7b-f0d7-bd2ef2d3c602"
      },
      "execution_count": 73,
      "outputs": [
        {
          "output_type": "execute_result",
          "data": {
            "text/plain": [
              "<Axes: >"
            ]
          },
          "metadata": {},
          "execution_count": 73
        },
        {
          "output_type": "display_data",
          "data": {
            "text/plain": [
              "<Figure size 640x480 with 1 Axes>"
            ],
            "image/png": "[encoded data removed]"
          },
          "metadata": {}
        }
      ]
    },
    {
      "cell_type": "code",
      "source": [
        "print(results['home_team'].unique())"
      ],
      "metadata": {
        "id": "Bmw2eSedE9sJ",
        "colab": {
          "base_uri": "https://localhost:8080/"
        },
        "outputId": "10343c5a-ca58-4642-fd12-3bb0ef2f2b55"
      },
      "execution_count": 74,
      "outputs": [
        {
          "output_type": "stream",
          "name": "stdout",
          "text": [
            "['Scotland' 'England' 'Wales' 'Northern Ireland' 'United States' 'Uruguay'\n",
            " 'Austria' 'Hungary' 'Argentina' 'Belgium' 'France' 'Guernsey' 'Jersey'\n",
            " 'Netherlands' 'Czechoslovakia' 'Alderney' 'Switzerland' 'Sweden'\n",
            " 'Germany' 'Italy' 'Chile' 'Norway' 'Finland' 'Luxembourg' 'Russia'\n",
            " 'Denmark' 'Catalonia' 'Basque Country' 'Brazil' 'Japan' 'Paraguay'\n",
            " 'Canada' 'Estonia' 'Costa Rica' 'Guatemala' 'Spain' 'Brittany' 'Poland'\n",
            " 'Yugoslavia' 'New Zealand' 'Romania' 'Latvia' 'Galicia' 'Portugal'\n",
            " 'Andalusia' 'China PR' 'Australia' 'Lithuania' 'Turkey' 'Central Spain'\n",
            " 'Mexico' 'Aruba' 'Egypt' 'Republic of Ireland' 'Haiti' 'Philippines'\n",
            " 'Bulgaria' 'Jamaica' 'Kenya' 'Bolivia' 'Peru' 'Honduras' 'Guyana'\n",
            " 'Uganda' 'Belarus' 'El Salvador' 'Barbados' 'Trinidad and Tobago'\n",
            " 'Greece' 'Curaçao' 'Dominica' 'Silesia' 'Guadeloupe' 'Israel' 'Suriname'\n",
            " 'French Guiana' 'Cuba' 'Colombia' 'Ecuador' 'Saint Kitts and Nevis'\n",
            " 'Panama' 'Slovakia' 'Manchukuo' 'Croatia' 'Nicaragua' 'Afghanistan'\n",
            " 'India' 'Martinique' 'Zimbabwe' 'Iceland' 'Albania' 'Venezuela'\n",
            " 'Madagascar' 'Zambia' 'Mauritius' 'Tanzania' 'Iran' 'Djibouti' 'DR Congo'\n",
            " 'Vietnam' 'Macau' 'Ethiopia' 'Puerto Rico' 'Réunion' 'Sierra Leone'\n",
            " 'Zanzibar' 'South Korea' 'Ghana' 'South Africa' 'New Caledonia' 'Fiji'\n",
            " 'Nigeria' 'Myanmar' 'Sri Lanka' 'Tahiti' 'Gambia' 'Hong Kong' 'Singapore'\n",
            " 'Malaysia' 'Indonesia' 'Guinea-Bissau' 'German DR' 'Vanuatu' 'Kernow'\n",
            " 'Saarland' 'Taiwan' 'Burma' 'Cambodia' 'Lebanon' 'Pakistan'\n",
            " 'Vietnam Republic' 'North Korea' 'Togo' 'Sudan' 'Malta' 'Syria' 'Tunisia'\n",
            " 'Malawi' 'Morocco' 'Malaya' 'Benin' 'Thailand' 'Cameroon'\n",
            " 'Central African Republic' 'Gabon' 'Ivory Coast' 'Congo' 'Mali'\n",
            " 'North Vietnam' 'Mongolia' 'Cyprus' 'Iraq' 'Saint Lucia' 'Grenada'\n",
            " 'Senegal' 'Libya' 'Guinea' 'Algeria' 'Kuwait' 'Jordan' 'Solomon Islands'\n",
            " 'Liberia' 'Laos' 'Saint Vincent and the Grenadines' 'Bermuda' 'Niger'\n",
            " 'Montenegro' 'Palestine' 'Bahrain' 'Papua New Guinea' 'Burkina Faso'\n",
            " 'Mauritania' 'Saudi Arabia' 'Eswatini' 'Western Australia' 'Somalia'\n",
            " 'Lesotho' 'Cook Islands' 'Qatar' 'Antigua and Barbuda' 'Faroe Islands'\n",
            " 'Bangladesh' 'Yemen' 'Oman' 'Yemen DPR' 'Burundi' 'China' 'Mozambique'\n",
            " 'Guam' 'Chad' 'Angola' 'Dominican Republic' 'Seychelles' 'Rwanda'\n",
            " 'São Tomé and Príncipe' 'Botswana' 'Northern Cyprus' 'Cape Verde'\n",
            " 'Kyrgyzstan' 'Georgia' 'Azerbaijan' 'Kiribati' 'Tonga'\n",
            " 'Wallis Islands and Futuna' 'United Arab Emirates' 'Brunei'\n",
            " 'Equatorial Guinea' 'Liechtenstein' 'Nepal' 'Greenland' 'Niue' 'Samoa'\n",
            " 'American Samoa' 'Belize' 'Anguilla' 'Cayman Islands' 'Palau'\n",
            " 'Sint Maarten' 'Namibia' 'Åland Islands' 'Ynys Môn' 'Saint Martin'\n",
            " 'San Marino' 'Slovenia' 'Shetland' 'Isle of Wight' 'Moldova' 'Ukraine'\n",
            " 'Kazakhstan' 'Tajikistan' 'Uzbekistan' 'Turkmenistan' 'Armenia'\n",
            " 'Czech Republic' 'Gibraltar' 'Isle of Man' 'North Macedonia' 'Montserrat'\n",
            " 'Serbia' 'Canary Islands' 'Bosnia and Herzegovina' 'Maldives' 'Andorra'\n",
            " 'British Virgin Islands' 'Frøya' 'Hitra' 'United States Virgin Islands'\n",
            " 'Corsica' 'Eritrea' 'Bahamas' 'Gotland' 'Saare County' 'Rhodes'\n",
            " 'Micronesia' 'Bhutan' 'Orkney' 'Monaco' 'Tuvalu' 'Sark' 'Mayotte'\n",
            " 'Turks and Caicos Islands' 'Åland' 'Timor-Leste' 'Occitania' 'Chechnya'\n",
            " 'Western Isles' 'Falkland Islands' 'Kosovo' 'Republic of St. Pauli'\n",
            " 'Găgăuzia' 'Tibet' 'Sápmi' 'Northern Mariana Islands' 'Romani people'\n",
            " 'Menorca' 'Comoros' 'Provence' 'Arameans Suryoye' 'Padania'\n",
            " 'Iraqi Kurdistan' 'Gozo' 'Bonaire' 'Chagos Islands' 'Sealand'\n",
            " 'Western Sahara' 'Raetia' 'Darfur' 'Tamil Eelam' 'South Sudan'\n",
            " 'Saint Barthélemy' 'Abkhazia' 'Artsakh' 'Madrid' 'Saugeais'\n",
            " 'Ellan Vannin' 'Vatican City' 'Somaliland' 'Franconia' 'South Ossetia'\n",
            " 'County of Nice' 'Seborga' 'Székely Land' 'Panjab' 'Felvidék'\n",
            " 'Luhansk PR' 'Donetsk PR' 'United Koreans in Japan' 'Western Armenia'\n",
            " 'Délvidék' 'Barawa' 'Ryūkyū' 'Kárpátalja' 'Yorkshire' 'Matabeleland'\n",
            " 'Cascadia' 'Kabylia' 'Parishes of Jersey' 'Chameria' 'Saint Helena'\n",
            " 'Yoruba Nation' 'Biafra' 'Mapuche' 'Aymara' 'Elba Island' 'West Papua'\n",
            " 'Ticino' 'Hmong']\n"
          ]
        }
      ]
    },
    {
      "cell_type": "code",
      "source": [
        "print(results['away_team'].unique())"
      ],
      "metadata": {
        "id": "5HK4x6MCROah",
        "colab": {
          "base_uri": "https://localhost:8080/"
        },
        "outputId": "db942d19-76b6-4c4d-97b4-6e56daa1860f"
      },
      "execution_count": 75,
      "outputs": [
        {
          "output_type": "stream",
          "name": "stdout",
          "text": [
            "['England' 'Scotland' 'Wales' 'Northern Ireland' 'Canada' 'Argentina'\n",
            " 'Hungary' 'Czechoslovakia' 'Austria' 'Uruguay' 'France' 'Switzerland'\n",
            " 'Alderney' 'Guernsey' 'Netherlands' 'Belgium' 'Jersey' 'Germany' 'Norway'\n",
            " 'Sweden' 'Italy' 'Chile' 'Catalonia' 'Finland' 'Russia' 'Luxembourg'\n",
            " 'Denmark' 'Brazil' 'Basque Country' 'United States' 'Philippines'\n",
            " 'Estonia' 'Provence' 'El Salvador' 'Costa Rica' 'Paraguay' 'Yugoslavia'\n",
            " 'Poland' 'Portugal' 'Spain' 'Romania' 'Australia' 'Central Spain'\n",
            " 'Mexico' 'Galicia' 'Brittany' 'Asturias' 'China PR' 'New Zealand'\n",
            " 'Latvia' 'Guatemala' 'Curaçao' 'Bulgaria' 'Turkey' 'Lithuania' 'Egypt'\n",
            " 'Republic of Ireland' 'South Africa' 'Jamaica' 'Japan' 'Uganda' 'Bolivia'\n",
            " 'Haiti' 'Trinidad and Tobago' 'Kenya' 'Ukraine' 'Honduras' 'Nicaragua'\n",
            " 'Greece' 'Guyana' 'Peru' 'Aruba' 'Martinique' 'Barbados' 'Cuba' 'Israel'\n",
            " 'Indonesia' 'Suriname' 'Saint Lucia' 'Ecuador' 'Venezuela' 'Grenada'\n",
            " 'India' 'Panama' 'Slovakia' 'Croatia' 'Lebanon' 'Manchukuo' 'Puerto Rico'\n",
            " 'Iran' 'Guadeloupe' 'Mongolia' 'Colombia' 'Tanzania' 'Zambia'\n",
            " 'Montenegro' 'Mauritius' 'Zimbabwe' 'French Guiana' 'Réunion' 'Albania'\n",
            " 'Zanzibar' 'Ethiopia' 'Madagascar' 'Dominica' 'South Korea' 'Djibouti'\n",
            " 'Dominican Republic' 'Cyprus' 'Iceland' 'Nigeria' 'Syria' 'DR Congo'\n",
            " 'Serbia' 'Taiwan' 'Afghanistan' 'Burma' 'Vanuatu' 'Ghana' 'Pakistan'\n",
            " 'German DR' 'Sierra Leone' 'Guinea-Bissau' 'Gambia' 'Saarland' 'Tahiti'\n",
            " 'Burundi' 'Sri Lanka' 'Vietnam' 'Hong Kong' 'Singapore' 'Thailand'\n",
            " 'Myanmar' 'New Caledonia' 'Cambodia' 'Malaysia' 'Vietnam Republic'\n",
            " 'Kyrgyzstan' 'Belarus' 'Moldova' 'North Vietnam' 'Togo' 'North Korea'\n",
            " 'Sudan' 'Libya' 'Malaya' 'Malta' 'Benin' 'Cape Verde' 'Mali'\n",
            " 'Burkina Faso' 'Ivory Coast' 'Cameroon' 'Iraq' 'Tunisia' 'Morocco'\n",
            " 'Saint Vincent and the Grenadines' 'Laos' 'Guinea' 'Congo' 'Gabon'\n",
            " 'Malawi' 'Jordan' 'Senegal' 'Kuwait' 'Papua New Guinea' 'Solomon Islands'\n",
            " 'Liberia' 'Somalia' 'Saudi Arabia' 'Algeria' 'Chad'\n",
            " 'Central African Republic' 'Bermuda' 'Palestine' 'Yemen' 'Bahrain' 'Oman'\n",
            " 'Wallis Islands and Futuna' 'Niger' 'Corsica' 'Western Australia'\n",
            " 'Botswana' 'Fiji' 'Eswatini' 'Qatar' 'Lesotho' 'Bahamas' 'Brunei'\n",
            " 'Cook Islands' 'Yemen DPR' 'United Arab Emirates' 'Faroe Islands' 'Nepal'\n",
            " 'Antigua and Barbuda' 'Bangladesh' 'Seychelles' 'China'\n",
            " 'Equatorial Guinea' 'Mozambique' 'Mauritania' 'Angola'\n",
            " 'São Tomé and Príncipe' 'Macau' 'Saint Kitts and Nevis' 'Armenia'\n",
            " 'Kazakhstan' 'Tonga' 'Kiribati' 'Tuvalu' 'Samoa' 'Greenland'\n",
            " 'Northern Cyprus' 'Rwanda' 'Liechtenstein' 'Bhutan' 'South Yemen'\n",
            " 'American Samoa' 'Cayman Islands' 'British Virgin Islands' 'Sint Maarten'\n",
            " 'Ynys Môn' 'Shetland' 'Åland Islands' 'Saint Martin' 'San Marino'\n",
            " 'Montserrat' 'Anguilla' 'Isle of Wight' 'Georgia' 'Guam' 'Turkmenistan'\n",
            " 'Slovenia' 'Uzbekistan' 'Eritrea' 'Tajikistan' 'Namibia' 'Azerbaijan'\n",
            " 'Czech Republic' 'Isle of Man' 'Gibraltar' 'North Macedonia' 'Belize'\n",
            " 'Bosnia and Herzegovina' 'Maldives' 'Andorra' 'Frøya' 'Hitra'\n",
            " 'Northern Mariana Islands' 'Kernow' 'Turks and Caicos Islands'\n",
            " 'United States Virgin Islands' 'Micronesia' 'Saare County' 'Rhodes'\n",
            " 'Monaco' 'Tibet' 'Orkney' 'Falkland Islands' 'Mayotte' 'Vatican City'\n",
            " 'Timor-Leste' 'Gotland' 'Sark' 'Sealand' 'Chechnya' 'Occitania'\n",
            " 'Ambazonia' 'Western Isles' 'Crimea' 'Sápmi' 'Comoros' 'Menorca'\n",
            " 'Iraqi Kurdistan' 'Padania' 'Arameans Suryoye' 'Gozo' 'Two Sicilies'\n",
            " 'Saint Barthélemy' 'Bonaire' 'Romani people' 'Raetia' 'Cilento'\n",
            " 'Chagos Islands' 'Western Sahara' 'Darfur' 'Tamil Eelam' 'Artsakh'\n",
            " 'Abkhazia' 'South Sudan' 'Andalusia' 'South Ossetia' 'County of Nice'\n",
            " 'Ellan Vannin' 'Luhansk PR' 'Donetsk PR' 'Felvidék' 'Panjab' 'Franconia'\n",
            " 'Székely Land' 'Somaliland' 'Western Armenia' 'Kosovo' 'Kárpátalja'\n",
            " 'United Koreans of Japan' 'Yorkshire' 'Surrey' 'Cascadia' 'Matabeleland'\n",
            " 'Kabylia' 'United Koreans in Japan' 'Barawa' 'Parishes of Jersey'\n",
            " 'Chameria' 'Saint Helena' 'Biafra' 'Maule Sur' 'Aymara' 'Åland' 'Hmong'\n",
            " 'Ticino']\n"
          ]
        }
      ]
    },
    {
      "cell_type": "code",
      "source": [
        "# uniq_teams_home=results['home_team'].unique()\n",
        "# uniq_teams_away=(results['away_team'].unique())\n",
        "# uniq_teams_home.sort()\n",
        "# uniq_teams_away.sort()\n",
        "# uniq_teams = np.union1d(uniq_teams_home, uniq_teams_away)\n",
        "# uniq_teams.sort()\n",
        "# print(len(uniq_teams))\n",
        "\n",
        "# Pobranie unikalnych wartości z kolumn home_team i away_team\n",
        "uniq_teams_home = results['home_team'].unique()\n",
        "uniq_teams_away = results['away_team'].unique()\n",
        "\n",
        "# Konwersja wszystkich wartości na typ string\n",
        "uniq_teams_home = [str(team) for team in uniq_teams_home]\n",
        "uniq_teams_away = [str(team) for team in uniq_teams_away]\n",
        "\n",
        "# Sortowanie\n",
        "uniq_teams_home.sort()\n",
        "uniq_teams_away.sort()\n",
        "\n",
        "# Unia zestawów drużyn\n",
        "uniq_teams = np.union1d(uniq_teams_home, uniq_teams_away)\n",
        "\n",
        "print(uniq_teams)"
      ],
      "metadata": {
        "id": "RfF3LuRuHDPh",
        "colab": {
          "base_uri": "https://localhost:8080/"
        },
        "outputId": "c94ededd-dc8b-4edc-8bd2-53a787b55557"
      },
      "execution_count": 76,
      "outputs": [
        {
          "output_type": "stream",
          "name": "stdout",
          "text": [
            "['Abkhazia' 'Afghanistan' 'Albania' 'Alderney' 'Algeria' 'Ambazonia'\n",
            " 'American Samoa' 'Andalusia' 'Andorra' 'Angola' 'Anguilla'\n",
            " 'Antigua and Barbuda' 'Arameans Suryoye' 'Argentina' 'Armenia' 'Artsakh'\n",
            " 'Aruba' 'Asturias' 'Australia' 'Austria' 'Aymara' 'Azerbaijan' 'Bahamas'\n",
            " 'Bahrain' 'Bangladesh' 'Barawa' 'Barbados' 'Basque Country' 'Belarus'\n",
            " 'Belgium' 'Belize' 'Benin' 'Bermuda' 'Bhutan' 'Biafra' 'Bolivia'\n",
            " 'Bonaire' 'Bosnia and Herzegovina' 'Botswana' 'Brazil'\n",
            " 'British Virgin Islands' 'Brittany' 'Brunei' 'Bulgaria' 'Burkina Faso'\n",
            " 'Burma' 'Burundi' 'Cambodia' 'Cameroon' 'Canada' 'Canary Islands'\n",
            " 'Cape Verde' 'Cascadia' 'Catalonia' 'Cayman Islands'\n",
            " 'Central African Republic' 'Central Spain' 'Chad' 'Chagos Islands'\n",
            " 'Chameria' 'Chechnya' 'Chile' 'China' 'China PR' 'Cilento' 'Colombia'\n",
            " 'Comoros' 'Congo' 'Cook Islands' 'Corsica' 'Costa Rica' 'County of Nice'\n",
            " 'Crimea' 'Croatia' 'Cuba' 'Curaçao' 'Cyprus' 'Czech Republic'\n",
            " 'Czechoslovakia' 'DR Congo' 'Darfur' 'Denmark' 'Djibouti' 'Dominica'\n",
            " 'Dominican Republic' 'Donetsk PR' 'Délvidék' 'Ecuador' 'Egypt'\n",
            " 'El Salvador' 'Elba Island' 'Ellan Vannin' 'England' 'Equatorial Guinea'\n",
            " 'Eritrea' 'Estonia' 'Eswatini' 'Ethiopia' 'Falkland Islands'\n",
            " 'Faroe Islands' 'Felvidék' 'Fiji' 'Finland' 'France' 'Franconia'\n",
            " 'French Guiana' 'Frøya' 'Gabon' 'Galicia' 'Gambia' 'Georgia' 'German DR'\n",
            " 'Germany' 'Ghana' 'Gibraltar' 'Gotland' 'Gozo' 'Greece' 'Greenland'\n",
            " 'Grenada' 'Guadeloupe' 'Guam' 'Guatemala' 'Guernsey' 'Guinea'\n",
            " 'Guinea-Bissau' 'Guyana' 'Găgăuzia' 'Haiti' 'Hitra' 'Hmong' 'Honduras'\n",
            " 'Hong Kong' 'Hungary' 'Iceland' 'India' 'Indonesia' 'Iran' 'Iraq'\n",
            " 'Iraqi Kurdistan' 'Isle of Man' 'Isle of Wight' 'Israel' 'Italy'\n",
            " 'Ivory Coast' 'Jamaica' 'Japan' 'Jersey' 'Jordan' 'Kabylia' 'Kazakhstan'\n",
            " 'Kenya' 'Kernow' 'Kiribati' 'Kosovo' 'Kuwait' 'Kyrgyzstan' 'Kárpátalja'\n",
            " 'Laos' 'Latvia' 'Lebanon' 'Lesotho' 'Liberia' 'Libya' 'Liechtenstein'\n",
            " 'Lithuania' 'Luhansk PR' 'Luxembourg' 'Macau' 'Madagascar' 'Madrid'\n",
            " 'Malawi' 'Malaya' 'Malaysia' 'Maldives' 'Mali' 'Malta' 'Manchukuo'\n",
            " 'Mapuche' 'Martinique' 'Matabeleland' 'Maule Sur' 'Mauritania'\n",
            " 'Mauritius' 'Mayotte' 'Menorca' 'Mexico' 'Micronesia' 'Moldova' 'Monaco'\n",
            " 'Mongolia' 'Montenegro' 'Montserrat' 'Morocco' 'Mozambique' 'Myanmar'\n",
            " 'Namibia' 'Nepal' 'Netherlands' 'New Caledonia' 'New Zealand' 'Nicaragua'\n",
            " 'Niger' 'Nigeria' 'Niue' 'North Korea' 'North Macedonia' 'North Vietnam'\n",
            " 'Northern Cyprus' 'Northern Ireland' 'Northern Mariana Islands' 'Norway'\n",
            " 'Occitania' 'Oman' 'Orkney' 'Padania' 'Pakistan' 'Palau' 'Palestine'\n",
            " 'Panama' 'Panjab' 'Papua New Guinea' 'Paraguay' 'Parishes of Jersey'\n",
            " 'Peru' 'Philippines' 'Poland' 'Portugal' 'Provence' 'Puerto Rico' 'Qatar'\n",
            " 'Raetia' 'Republic of Ireland' 'Republic of St. Pauli' 'Rhodes'\n",
            " 'Romani people' 'Romania' 'Russia' 'Rwanda' 'Ryūkyū' 'Réunion'\n",
            " 'Saare County' 'Saarland' 'Saint Barthélemy' 'Saint Helena'\n",
            " 'Saint Kitts and Nevis' 'Saint Lucia' 'Saint Martin'\n",
            " 'Saint Vincent and the Grenadines' 'Samoa' 'San Marino' 'Sark'\n",
            " 'Saudi Arabia' 'Saugeais' 'Scotland' 'Sealand' 'Seborga' 'Senegal'\n",
            " 'Serbia' 'Seychelles' 'Shetland' 'Sierra Leone' 'Silesia' 'Singapore'\n",
            " 'Sint Maarten' 'Slovakia' 'Slovenia' 'Solomon Islands' 'Somalia'\n",
            " 'Somaliland' 'South Africa' 'South Korea' 'South Ossetia' 'South Sudan'\n",
            " 'South Yemen' 'Spain' 'Sri Lanka' 'Sudan' 'Suriname' 'Surrey' 'Sweden'\n",
            " 'Switzerland' 'Syria' 'Székely Land' 'Sápmi' 'São Tomé and Príncipe'\n",
            " 'Tahiti' 'Taiwan' 'Tajikistan' 'Tamil Eelam' 'Tanzania' 'Thailand'\n",
            " 'Tibet' 'Ticino' 'Timor-Leste' 'Togo' 'Tonga' 'Trinidad and Tobago'\n",
            " 'Tunisia' 'Turkey' 'Turkmenistan' 'Turks and Caicos Islands' 'Tuvalu'\n",
            " 'Two Sicilies' 'Uganda' 'Ukraine' 'United Arab Emirates'\n",
            " 'United Koreans in Japan' 'United Koreans of Japan' 'United States'\n",
            " 'United States Virgin Islands' 'Uruguay' 'Uzbekistan' 'Vanuatu'\n",
            " 'Vatican City' 'Venezuela' 'Vietnam' 'Vietnam Republic' 'Wales'\n",
            " 'Wallis Islands and Futuna' 'West Papua' 'Western Armenia'\n",
            " 'Western Australia' 'Western Isles' 'Western Sahara' 'Yemen' 'Yemen DPR'\n",
            " 'Ynys Môn' 'Yorkshire' 'Yoruba Nation' 'Yugoslavia' 'Zambia' 'Zanzibar'\n",
            " 'Zimbabwe' 'Åland' 'Åland Islands']\n"
          ]
        }
      ]
    },
    {
      "cell_type": "code",
      "source": [
        "def determine_winner(results):\n",
        "    if results['home_score'] > results['away_score']:\n",
        "        return True\n",
        "    elif results['home_score'] == results['away_score']:\n",
        "        return False\n",
        "    else:\n",
        "        return False\n",
        "results['home_winner'] = results.apply(determine_winner, axis=1)\n"
      ],
      "metadata": {
        "id": "c8kvZmpbianT"
      },
      "execution_count": 77,
      "outputs": []
    },
    {
      "cell_type": "code",
      "source": [
        "#results.drop(columns=[\"date\"], inplace=True) #Dupa\n",
        "results.drop(columns=[\"away_score\"], inplace=True)\n",
        "#results.drop(columns=[\"home_score\"], inplace=True)\n",
        "#results.drop(columns=[\"city\"], inplace=True) #Zmiana na wartosci liczbowe\n",
        "results.drop(columns=[\"country\"], inplace=True)#Zmiana na wartosci liczbowe\n",
        "results.drop(columns=[\"tournament\"], inplace=True)\n",
        "#results.drop(columns=[\"neutral\"], inplace=True)\n"
      ],
      "metadata": {
        "id": "HA3_mtnHKZz9"
      },
      "execution_count": 78,
      "outputs": []
    },
    {
      "cell_type": "code",
      "source": [],
      "metadata": {
        "id": "Pv1g7jT5iPIS"
      },
      "execution_count": 78,
      "outputs": []
    },
    {
      "cell_type": "code",
      "source": [
        "results.info()"
      ],
      "metadata": {
        "id": "47eumCfIf_GU",
        "colab": {
          "base_uri": "https://localhost:8080/"
        },
        "outputId": "8d45877a-55bc-4073-da82-0382252c42f1"
      },
      "execution_count": 79,
      "outputs": [
        {
          "output_type": "stream",
          "name": "stdout",
          "text": [
            "<class 'pandas.core.frame.DataFrame'>\n",
            "RangeIndex: 46442 entries, 0 to 46441\n",
            "Data columns (total 7 columns):\n",
            " #   Column       Non-Null Count  Dtype \n",
            "---  ------       --------------  ----- \n",
            " 0   date         46442 non-null  object\n",
            " 1   home_team    46442 non-null  object\n",
            " 2   away_team    46442 non-null  object\n",
            " 3   home_score   46442 non-null  int64 \n",
            " 4   city         46442 non-null  object\n",
            " 5   neutral      46442 non-null  bool  \n",
            " 6   home_winner  46442 non-null  bool  \n",
            "dtypes: bool(2), int64(1), object(4)\n",
            "memory usage: 1.9+ MB\n"
          ]
        }
      ]
    },
    {
      "cell_type": "code",
      "source": [
        "lab_enc = LabelEncoder()\n",
        "results[\"home_team\"] = lab_enc.fit_transform(results[\"home_team\"])\n",
        "results[\"away_team\"] = lab_enc.fit_transform(results[\"away_team\"])\n",
        "#results[\"tournament\"] = lab_enc.fit_transform(results[\"tournament\"])\n",
        "results[\"city\"] = lab_enc.fit_transform(results[\"city\"])\n",
        "#results[\"country\"] = lab_enc.fit_transform(results[\"country\"])\n",
        "results[\"neutral\"] = lab_enc.fit_transform(results[\"neutral\"])\n",
        "results[\"date\"] = lab_enc.fit_transform(results[\"date\"])\n",
        "results[\"home_winner\"] = lab_enc.fit_transform(results[\"home_winner\"])"
      ],
      "metadata": {
        "id": "mRcnbSUEgjbT"
      },
      "execution_count": 80,
      "outputs": []
    },
    {
      "cell_type": "code",
      "source": [
        "#Podmiana string home_team i away_team na wartosci unikalne z tabeli uniq_teams\n",
        "#team_to_id = {team: idx for idx, team in enumerate(uniq_teams, start=1)}\n",
        "#results['home_team'] = results['home_team'].map(team_to_id)\n",
        "#results['away_team'] = results['away_team'].map(team_to_id)"
      ],
      "metadata": {
        "id": "7VA2_B-_ULbv"
      },
      "execution_count": 81,
      "outputs": []
    },
    {
      "cell_type": "code",
      "source": [
        "results.tail()"
      ],
      "metadata": {
        "id": "pMuTLH5gWTkL",
        "colab": {
          "base_uri": "https://localhost:8080/",
          "height": 206
        },
        "outputId": "d343468c-4db3-45a2-cc31-32135b1e42bf"
      },
      "execution_count": 82,
      "outputs": [
        {
          "output_type": "execute_result",
          "data": {
            "text/plain": [
              "        date  home_team  away_team  home_score  city  neutral  home_winner\n",
              "46437  15959        249        202           0   652        0            0\n",
              "46438  15959        252         31           1    71        1            1\n",
              "46439  15959        261        219           2  1018        0            1\n",
              "46440  15959        269         39           3  1067        0            0\n",
              "46441  15959         98         92           2   733        0            1"
            ],
            "text/html": [
              "\n",
              "  <div id=\"df-eb951330-ce46-4f83-8353-3371ef73f0bf\" class=\"colab-df-container\">\n",
              "    <div>\n",
              "<style scoped>\n",
              "    .dataframe tbody tr th:only-of-type {\n",
              "        vertical-align: middle;\n",
              "    }\n",
              "\n",
              "    .dataframe tbody tr th {\n",
              "        vertical-align: top;\n",
              "    }\n",
              "\n",
              "    .dataframe thead th {\n",
              "        text-align: right;\n",
              "    }\n",
              "</style>\n",
              "<table border=\"1\" class=\"dataframe\">\n",
              "  <thead>\n",
              "    <tr style=\"text-align: right;\">\n",
              "      <th></th>\n",
              "      <th>date</th>\n",
              "      <th>home_team</th>\n",
              "      <th>away_team</th>\n",
              "      <th>home_score</th>\n",
              "      <th>city</th>\n",
              "      <th>neutral</th>\n",
              "      <th>home_winner</th>\n",
              "    </tr>\n",
              "  </thead>\n",
              "  <tbody>\n",
              "    <tr>\n",
              "      <th>46437</th>\n",
              "      <td>15959</td>\n",
              "      <td>249</td>\n",
              "      <td>202</td>\n",
              "      <td>0</td>\n",
              "      <td>652</td>\n",
              "      <td>0</td>\n",
              "      <td>0</td>\n",
              "    </tr>\n",
              "    <tr>\n",
              "      <th>46438</th>\n",
              "      <td>15959</td>\n",
              "      <td>252</td>\n",
              "      <td>31</td>\n",
              "      <td>1</td>\n",
              "      <td>71</td>\n",
              "      <td>1</td>\n",
              "      <td>1</td>\n",
              "    </tr>\n",
              "    <tr>\n",
              "      <th>46439</th>\n",
              "      <td>15959</td>\n",
              "      <td>261</td>\n",
              "      <td>219</td>\n",
              "      <td>2</td>\n",
              "      <td>1018</td>\n",
              "      <td>0</td>\n",
              "      <td>1</td>\n",
              "    </tr>\n",
              "    <tr>\n",
              "      <th>46440</th>\n",
              "      <td>15959</td>\n",
              "      <td>269</td>\n",
              "      <td>39</td>\n",
              "      <td>3</td>\n",
              "      <td>1067</td>\n",
              "      <td>0</td>\n",
              "      <td>0</td>\n",
              "    </tr>\n",
              "    <tr>\n",
              "      <th>46441</th>\n",
              "      <td>15959</td>\n",
              "      <td>98</td>\n",
              "      <td>92</td>\n",
              "      <td>2</td>\n",
              "      <td>733</td>\n",
              "      <td>0</td>\n",
              "      <td>1</td>\n",
              "    </tr>\n",
              "  </tbody>\n",
              "</table>\n",
              "</div>\n",
              "    <div class=\"colab-df-buttons\">\n",
              "\n",
              "  <div class=\"colab-df-container\">\n",
              "    <button class=\"colab-df-convert\" onclick=\"convertToInteractive('df-eb951330-ce46-4f83-8353-3371ef73f0bf')\"\n",
              "            title=\"Convert this dataframe to an interactive table.\"\n",
              "            style=\"display:none;\">\n",
              "\n",
              "  <svg xmlns=\"http://www.w3.org/2000/svg\" height=\"24px\" viewBox=\"0 -960 960 960\">\n",
              "    <path d=\"M120-120v-720h720v720H120Zm60-500h600v-160H180v160Zm220 220h160v-160H400v160Zm0 220h160v-160H400v160ZM180-400h160v-160H180v160Zm440 0h160v-160H620v160ZM180-180h160v-160H180v160Zm440 0h160v-160H620v160Z\"/>\n",
              "  </svg>\n",
              "    </button>\n",
              "\n",
              "  <style>\n",
              "    .colab-df-container {\n",
              "      display:flex;\n",
              "      gap: 12px;\n",
              "    }\n",
              "\n",
              "    .colab-df-convert {\n",
              "      background-color: #E8F0FE;\n",
              "      border: none;\n",
              "      border-radius: 50%;\n",
              "      cursor: pointer;\n",
              "      display: none;\n",
              "      fill: #1967D2;\n",
              "      height: 32px;\n",
              "      padding: 0 0 0 0;\n",
              "      width: 32px;\n",
              "    }\n",
              "\n",
              "    .colab-df-convert:hover {\n",
              "      background-color: #E2EBFA;\n",
              "      box-shadow: 0px 1px 2px rgba(60, 64, 67, 0.3), 0px 1px 3px 1px rgba(60, 64, 67, 0.15);\n",
              "      fill: #174EA6;\n",
              "    }\n",
              "\n",
              "    .colab-df-buttons div {\n",
              "      margin-bottom: 4px;\n",
              "    }\n",
              "\n",
              "    [theme=dark] .colab-df-convert {\n",
              "      background-color: #3B4455;\n",
              "      fill: #D2E3FC;\n",
              "    }\n",
              "\n",
              "    [theme=dark] .colab-df-convert:hover {\n",
              "      background-color: #434B5C;\n",
              "      box-shadow: 0px 1px 3px 1px rgba(0, 0, 0, 0.15);\n",
              "      filter: drop-shadow(0px 1px 2px rgba(0, 0, 0, 0.3));\n",
              "      fill: #FFFFFF;\n",
              "    }\n",
              "  </style>\n",
              "\n",
              "    <script>\n",
              "      const buttonEl =\n",
              "        document.querySelector('#df-eb951330-ce46-4f83-8353-3371ef73f0bf button.colab-df-convert');\n",
              "      buttonEl.style.display =\n",
              "        google.colab.kernel.accessAllowed ? 'block' : 'none';\n",
              "\n",
              "      async function convertToInteractive(key) {\n",
              "        const element = document.querySelector('#df-eb951330-ce46-4f83-8353-3371ef73f0bf');\n",
              "        const dataTable =\n",
              "          await google.colab.kernel.invokeFunction('convertToInteractive',\n",
              "                                                    [key], {});\n",
              "        if (!dataTable) return;\n",
              "\n",
              "        const docLinkHtml = 'Like what you see? Visit the ' +\n",
              "          '<a target=\"_blank\" href=https://colab.research.google.com/notebooks/data_table.ipynb>data table notebook</a>'\n",
              "          + ' to learn more about interactive tables.';\n",
              "        element.innerHTML = '';\n",
              "        dataTable['output_type'] = 'display_data';\n",
              "        await google.colab.output.renderOutput(dataTable, element);\n",
              "        const docLink = document.createElement('div');\n",
              "        docLink.innerHTML = docLinkHtml;\n",
              "        element.appendChild(docLink);\n",
              "      }\n",
              "    </script>\n",
              "  </div>\n",
              "\n",
              "\n",
              "<div id=\"df-42005861-a43a-4097-bcfb-0f2420bc3e33\">\n",
              "  <button class=\"colab-df-quickchart\" onclick=\"quickchart('df-42005861-a43a-4097-bcfb-0f2420bc3e33')\"\n",
              "            title=\"Suggest charts\"\n",
              "            style=\"display:none;\">\n",
              "\n",
              "<svg xmlns=\"http://www.w3.org/2000/svg\" height=\"24px\"viewBox=\"0 0 24 24\"\n",
              "     width=\"24px\">\n",
              "    <g>\n",
              "        <path d=\"M19 3H5c-1.1 0-2 .9-2 2v14c0 1.1.9 2 2 2h14c1.1 0 2-.9 2-2V5c0-1.1-.9-2-2-2zM9 17H7v-7h2v7zm4 0h-2V7h2v10zm4 0h-2v-4h2v4z\"/>\n",
              "    </g>\n",
              "</svg>\n",
              "  </button>\n",
              "\n",
              "<style>\n",
              "  .colab-df-quickchart {\n",
              "      --bg-color: #E8F0FE;\n",
              "      --fill-color: #1967D2;\n",
              "      --hover-bg-color: #E2EBFA;\n",
              "      --hover-fill-color: #174EA6;\n",
              "      --disabled-fill-color: #AAA;\n",
              "      --disabled-bg-color: #DDD;\n",
              "  }\n",
              "\n",
              "  [theme=dark] .colab-df-quickchart {\n",
              "      --bg-color: #3B4455;\n",
              "      --fill-color: #D2E3FC;\n",
              "      --hover-bg-color: #434B5C;\n",
              "      --hover-fill-color: #FFFFFF;\n",
              "      --disabled-bg-color: #3B4455;\n",
              "      --disabled-fill-color: #666;\n",
              "  }\n",
              "\n",
              "  .colab-df-quickchart {\n",
              "    background-color: var(--bg-color);\n",
              "    border: none;\n",
              "    border-radius: 50%;\n",
              "    cursor: pointer;\n",
              "    display: none;\n",
              "    fill: var(--fill-color);\n",
              "    height: 32px;\n",
              "    padding: 0;\n",
              "    width: 32px;\n",
              "  }\n",
              "\n",
              "  .colab-df-quickchart:hover {\n",
              "    background-color: var(--hover-bg-color);\n",
              "    box-shadow: 0 1px 2px rgba(60, 64, 67, 0.3), 0 1px 3px 1px rgba(60, 64, 67, 0.15);\n",
              "    fill: var(--button-hover-fill-color);\n",
              "  }\n",
              "\n",
              "  .colab-df-quickchart-complete:disabled,\n",
              "  .colab-df-quickchart-complete:disabled:hover {\n",
              "    background-color: var(--disabled-bg-color);\n",
              "    fill: var(--disabled-fill-color);\n",
              "    box-shadow: none;\n",
              "  }\n",
              "\n",
              "  .colab-df-spinner {\n",
              "    border: 2px solid var(--fill-color);\n",
              "    border-color: transparent;\n",
              "    border-bottom-color: var(--fill-color);\n",
              "    animation:\n",
              "      spin 1s steps(1) infinite;\n",
              "  }\n",
              "\n",
              "  @keyframes spin {\n",
              "    0% {\n",
              "      border-color: transparent;\n",
              "      border-bottom-color: var(--fill-color);\n",
              "      border-left-color: var(--fill-color);\n",
              "    }\n",
              "    20% {\n",
              "      border-color: transparent;\n",
              "      border-left-color: var(--fill-color);\n",
              "      border-top-color: var(--fill-color);\n",
              "    }\n",
              "    30% {\n",
              "      border-color: transparent;\n",
              "      border-left-color: var(--fill-color);\n",
              "      border-top-color: var(--fill-color);\n",
              "      border-right-color: var(--fill-color);\n",
              "    }\n",
              "    40% {\n",
              "      border-color: transparent;\n",
              "      border-right-color: var(--fill-color);\n",
              "      border-top-color: var(--fill-color);\n",
              "    }\n",
              "    60% {\n",
              "      border-color: transparent;\n",
              "      border-right-color: var(--fill-color);\n",
              "    }\n",
              "    80% {\n",
              "      border-color: transparent;\n",
              "      border-right-color: var(--fill-color);\n",
              "      border-bottom-color: var(--fill-color);\n",
              "    }\n",
              "    90% {\n",
              "      border-color: transparent;\n",
              "      border-bottom-color: var(--fill-color);\n",
              "    }\n",
              "  }\n",
              "</style>\n",
              "\n",
              "  <script>\n",
              "    async function quickchart(key) {\n",
              "      const quickchartButtonEl =\n",
              "        document.querySelector('#' + key + ' button');\n",
              "      quickchartButtonEl.disabled = true;  // To prevent multiple clicks.\n",
              "      quickchartButtonEl.classList.add('colab-df-spinner');\n",
              "      try {\n",
              "        const charts = await google.colab.kernel.invokeFunction(\n",
              "            'suggestCharts', [key], {});\n",
              "      } catch (error) {\n",
              "        console.error('Error during call to suggestCharts:', error);\n",
              "      }\n",
              "      quickchartButtonEl.classList.remove('colab-df-spinner');\n",
              "      quickchartButtonEl.classList.add('colab-df-quickchart-complete');\n",
              "    }\n",
              "    (() => {\n",
              "      let quickchartButtonEl =\n",
              "        document.querySelector('#df-42005861-a43a-4097-bcfb-0f2420bc3e33 button');\n",
              "      quickchartButtonEl.style.display =\n",
              "        google.colab.kernel.accessAllowed ? 'block' : 'none';\n",
              "    })();\n",
              "  </script>\n",
              "</div>\n",
              "    </div>\n",
              "  </div>\n"
            ],
            "application/vnd.google.colaboratory.intrinsic+json": {
              "type": "dataframe",
              "summary": "{\n  \"name\": \"results\",\n  \"rows\": 5,\n  \"fields\": [\n    {\n      \"column\": \"date\",\n      \"properties\": {\n        \"dtype\": \"number\",\n        \"std\": 0,\n        \"min\": 15959,\n        \"max\": 15959,\n        \"num_unique_values\": 1,\n        \"samples\": [\n          15959\n        ],\n        \"semantic_type\": \"\",\n        \"description\": \"\"\n      }\n    },\n    {\n      \"column\": \"home_team\",\n      \"properties\": {\n        \"dtype\": \"number\",\n        \"std\": 71,\n        \"min\": 98,\n        \"max\": 269,\n        \"num_unique_values\": 5,\n        \"samples\": [\n          252\n        ],\n        \"semantic_type\": \"\",\n        \"description\": \"\"\n      }\n    },\n    {\n      \"column\": \"away_team\",\n      \"properties\": {\n        \"dtype\": \"number\",\n        \"std\": 89,\n        \"min\": 31,\n        \"max\": 219,\n        \"num_unique_values\": 5,\n        \"samples\": [\n          31\n        ],\n        \"semantic_type\": \"\",\n        \"description\": \"\"\n      }\n    },\n    {\n      \"column\": \"home_score\",\n      \"properties\": {\n        \"dtype\": \"number\",\n        \"std\": 1,\n        \"min\": 0,\n        \"max\": 3,\n        \"num_unique_values\": 4,\n        \"samples\": [\n          1\n        ],\n        \"semantic_type\": \"\",\n        \"description\": \"\"\n      }\n    },\n    {\n      \"column\": \"city\",\n      \"properties\": {\n        \"dtype\": \"number\",\n        \"std\": 398,\n        \"min\": 71,\n        \"max\": 1067,\n        \"num_unique_values\": 5,\n        \"samples\": [\n          71\n        ],\n        \"semantic_type\": \"\",\n        \"description\": \"\"\n      }\n    },\n    {\n      \"column\": \"neutral\",\n      \"properties\": {\n        \"dtype\": \"number\",\n        \"std\": 0,\n        \"min\": 0,\n        \"max\": 1,\n        \"num_unique_values\": 2,\n        \"samples\": [\n          1\n        ],\n        \"semantic_type\": \"\",\n        \"description\": \"\"\n      }\n    },\n    {\n      \"column\": \"home_winner\",\n      \"properties\": {\n        \"dtype\": \"number\",\n        \"std\": 0,\n        \"min\": 0,\n        \"max\": 1,\n        \"num_unique_values\": 2,\n        \"samples\": [\n          1\n        ],\n        \"semantic_type\": \"\",\n        \"description\": \"\"\n      }\n    }\n  ]\n}"
            }
          },
          "metadata": {},
          "execution_count": 82
        }
      ]
    },
    {
      "cell_type": "code",
      "source": [
        "sns.heatmap(results.corr());"
      ],
      "metadata": {
        "id": "YoORHtRigbuj",
        "colab": {
          "base_uri": "https://localhost:8080/",
          "height": 515
        },
        "outputId": "58d28679-72be-4780-90ff-ccf96d406b75"
      },
      "execution_count": 83,
      "outputs": [
        {
          "output_type": "display_data",
          "data": {
            "text/plain": [
              "<Figure size 640x480 with 2 Axes>"
            ],
            "image/png": "[encoded data removed]"
          },
          "metadata": {}
        }
      ]
    },
    {
      "cell_type": "code",
      "source": [
        "results.info()"
      ],
      "metadata": {
        "id": "8_gsd_UVI958",
        "colab": {
          "base_uri": "https://localhost:8080/"
        },
        "outputId": "9de2e27a-ca80-45a3-e660-5d0e13418aa3"
      },
      "execution_count": 84,
      "outputs": [
        {
          "output_type": "stream",
          "name": "stdout",
          "text": [
            "<class 'pandas.core.frame.DataFrame'>\n",
            "RangeIndex: 46442 entries, 0 to 46441\n",
            "Data columns (total 7 columns):\n",
            " #   Column       Non-Null Count  Dtype\n",
            "---  ------       --------------  -----\n",
            " 0   date         46442 non-null  int64\n",
            " 1   home_team    46442 non-null  int64\n",
            " 2   away_team    46442 non-null  int64\n",
            " 3   home_score   46442 non-null  int64\n",
            " 4   city         46442 non-null  int64\n",
            " 5   neutral      46442 non-null  int64\n",
            " 6   home_winner  46442 non-null  int64\n",
            "dtypes: int64(7)\n",
            "memory usage: 2.5 MB\n"
          ]
        }
      ]
    },
    {
      "cell_type": "code",
      "source": [
        "#Porównywanie wyników dla meczów domowych 2 oznacza zwyciestwo druzyny która grała u siebie\n",
        "#1 oznacza remis, a 0 oznacza, że drużyna przyjezdnych wygrywała\n",
        "sns.countplot(x=\"home_winner\", data=results)"
      ],
      "metadata": {
        "id": "AM2vQV30JDqi",
        "colab": {
          "base_uri": "https://localhost:8080/",
          "height": 467
        },
        "outputId": "19e748eb-c869-4ef0-c1d2-1cb3a2165ce6"
      },
      "execution_count": 85,
      "outputs": [
        {
          "output_type": "execute_result",
          "data": {
            "text/plain": [
              "<Axes: xlabel='home_winner', ylabel='count'>"
            ]
          },
          "metadata": {},
          "execution_count": 85
        },
        {
          "output_type": "display_data",
          "data": {
            "text/plain": [
              "<Figure size 640x480 with 1 Axes>"
            ],
            "image/png": "[encoded data removed]"
          },
          "metadata": {}
        }
      ]
    },
    {
      "cell_type": "code",
      "source": [
        "#results['home_winner'].value_counts()\n",
        "#yes_sample_size = results['home_winner'].value_counts()[1]\n",
        "#print(yes_sample_size)\n",
        "#temp_0 = results[results['home_winner'] == 0].sample(n=yes_sample_size)\n",
        "#temp_2 = results[results['home_winner'] == 1].sample(n=yes_sample_size)\n",
        "\n",
        "#sns.countplot(x=\"home_winner\", data=pd.concat([temp_2]))\n",
        "#results = results[results['home_winner'] != 1]\n",
        "#results = results[results['home_winner'] != 2]\n",
        "#results = pd.concat([results, temp_0])\n",
        "#sns.countplot(x=\"home_winner\", data=results)"
      ],
      "metadata": {
        "id": "caV08Ku-i-Tv"
      },
      "execution_count": 86,
      "outputs": []
    },
    {
      "cell_type": "markdown",
      "source": [
        "#Trenowanie\n"
      ],
      "metadata": {
        "id": "pz6eZnwUYh32"
      }
    },
    {
      "cell_type": "code",
      "source": [
        "X = results.drop([\"home_winner\"], axis=1)\n",
        "y = results[\"home_winner\"]"
      ],
      "metadata": {
        "id": "yr63PMwNYjPC"
      },
      "execution_count": 87,
      "outputs": []
    },
    {
      "cell_type": "code",
      "source": [
        "X_train, X_test, y_train, y_test = train_test_split(X,\n",
        "                                                    y, test_size=0.10,\n",
        "                                                    random_state=101)"
      ],
      "metadata": {
        "id": "EL8-k_tgYuBQ"
      },
      "execution_count": 88,
      "outputs": []
    },
    {
      "cell_type": "code",
      "source": [
        "def model(X_train, y_train):\n",
        "  forest = RandomForestClassifier(n_estimators=10, random_state=101)\n",
        "  forest.fit(X_train, y_train)\n",
        "  print(f\"Las: {forest.score(X_train, y_train)}\")\n",
        "\n",
        "  lreg = LogisticRegression(max_iter=5000)\n",
        "  lreg.fit(X_train, y_train)\n",
        "  print(f\"Regresja logistyczna: {lreg.score(X_train, y_train)}\")\n",
        "\n",
        "  tree = DecisionTreeClassifier()\n",
        "  tree.fit(X_train, y_train)\n",
        "  print(f\"Drzewa decyzyjne: {tree.score(X_train, y_train)}\")\n",
        "\n",
        "  xgb = XGBClassifier(use_label_encoder=False, eval_metric='logloss')\n",
        "  xgb.fit(X_train, y_train)\n",
        "  print(f\"XGBoost: {xgb.score(X_train, y_train)}\")\n",
        "\n",
        "  return forest, lreg, tree, xgb\n",
        "\n",
        "forest, lreg, tree, xgb = model(X_train, y_train)"
      ],
      "metadata": {
        "colab": {
          "base_uri": "https://localhost:8080/"
        },
        "id": "E698OmKDYv_7",
        "outputId": "78a5aa2e-ff42-4439-f6c0-9dcd604dc708"
      },
      "execution_count": 89,
      "outputs": [
        {
          "output_type": "stream",
          "name": "stdout",
          "text": [
            "Las: 0.9877742421704907\n",
            "Regresja logistyczna: 0.8190061487666579\n",
            "Drzewa decyzyjne: 1.0\n",
            "XGBoost: 0.8664258200349307\n"
          ]
        }
      ]
    },
    {
      "cell_type": "code",
      "source": [
        "y1_predict = forest.predict(X_test)\n",
        "print(f\"Random Forest {accuracy_score(y_test, y1_predict)}\")\n",
        "\n",
        "y2_predict = lreg.predict(X_test)\n",
        "print(f\"Logistic Regresion {accuracy_score(y_test, y2_predict)}\")\n",
        "\n",
        "y3_predict = tree.predict(X_test)\n",
        "print(f\"Desision Tree {accuracy_score(y_test, y3_predict)}\")\n",
        "\n",
        "y4_predict = xgb.predict(X_test)\n",
        "print(f\"Xgb {accuracy_score(y_test, y4_predict)}\")\n"
      ],
      "metadata": {
        "id": "Sw84Luz6ZAtW",
        "colab": {
          "base_uri": "https://localhost:8080/"
        },
        "outputId": "d5dd1ea6-c3a8-47fa-82b3-197c4aa1c308"
      },
      "execution_count": 90,
      "outputs": [
        {
          "output_type": "stream",
          "name": "stdout",
          "text": [
            "Random Forest 0.7959095801937567\n",
            "Logistic Regresion 0.8152852529601722\n",
            "Desision Tree 0.7728740581270183\n",
            "Xgb 0.8144241119483315\n"
          ]
        }
      ]
    },
    {
      "cell_type": "code",
      "source": [
        "print(\"Ocena modelu 1. Las\")\n",
        "print(classification_report(y_test, y1_predict))"
      ],
      "metadata": {
        "id": "GIrjpioFZFTq",
        "colab": {
          "base_uri": "https://localhost:8080/"
        },
        "outputId": "01a15d2d-c870-4f95-9238-6c5da3d5f931"
      },
      "execution_count": 91,
      "outputs": [
        {
          "output_type": "stream",
          "name": "stdout",
          "text": [
            "Ocena modelu 1. Las\n",
            "              precision    recall  f1-score   support\n",
            "\n",
            "           0       0.78      0.83      0.80      2334\n",
            "           1       0.81      0.77      0.79      2311\n",
            "\n",
            "    accuracy                           0.80      4645\n",
            "   macro avg       0.80      0.80      0.80      4645\n",
            "weighted avg       0.80      0.80      0.80      4645\n",
            "\n"
          ]
        }
      ]
    },
    {
      "cell_type": "code",
      "source": [
        "\n",
        "print(\"Ocena modelu 2. Regresja logistyczna\")\n",
        "print(classification_report(y_test, y2_predict))"
      ],
      "metadata": {
        "id": "scT_tOd-ZGfp",
        "colab": {
          "base_uri": "https://localhost:8080/"
        },
        "outputId": "33abcbbd-1d49-4771-c32a-712a478823cb"
      },
      "execution_count": 92,
      "outputs": [
        {
          "output_type": "stream",
          "name": "stdout",
          "text": [
            "Ocena modelu 2. Regresja logistyczna\n",
            "              precision    recall  f1-score   support\n",
            "\n",
            "           0       0.80      0.84      0.82      2334\n",
            "           1       0.83      0.79      0.81      2311\n",
            "\n",
            "    accuracy                           0.82      4645\n",
            "   macro avg       0.82      0.82      0.82      4645\n",
            "weighted avg       0.82      0.82      0.82      4645\n",
            "\n"
          ]
        }
      ]
    },
    {
      "cell_type": "code",
      "source": [
        "\n",
        "print(\"Ocena modelu 3. Drzewa decyzyjne\")\n",
        "print(classification_report(y_test, y3_predict))"
      ],
      "metadata": {
        "id": "_uzcAWaZZIFn",
        "colab": {
          "base_uri": "https://localhost:8080/"
        },
        "outputId": "35492638-7bb3-492d-ed2e-475cb06c69c3"
      },
      "execution_count": 93,
      "outputs": [
        {
          "output_type": "stream",
          "name": "stdout",
          "text": [
            "Ocena modelu 3. Drzewa decyzyjne\n",
            "              precision    recall  f1-score   support\n",
            "\n",
            "           0       0.77      0.78      0.78      2334\n",
            "           1       0.77      0.77      0.77      2311\n",
            "\n",
            "    accuracy                           0.77      4645\n",
            "   macro avg       0.77      0.77      0.77      4645\n",
            "weighted avg       0.77      0.77      0.77      4645\n",
            "\n"
          ]
        }
      ]
    },
    {
      "cell_type": "code",
      "source": [
        "\n",
        "print(\"Ocena modelu 4. Xgb\")\n",
        "print(classification_report(y_test, y4_predict))"
      ],
      "metadata": {
        "id": "-TNlHx6knxhA",
        "colab": {
          "base_uri": "https://localhost:8080/"
        },
        "outputId": "076648e1-3dcf-4c2e-da17-6a7533479d4d"
      },
      "execution_count": 94,
      "outputs": [
        {
          "output_type": "stream",
          "name": "stdout",
          "text": [
            "Ocena modelu 4. Xgb\n",
            "              precision    recall  f1-score   support\n",
            "\n",
            "           0       0.81      0.82      0.82      2334\n",
            "           1       0.82      0.81      0.81      2311\n",
            "\n",
            "    accuracy                           0.81      4645\n",
            "   macro avg       0.81      0.81      0.81      4645\n",
            "weighted avg       0.81      0.81      0.81      4645\n",
            "\n"
          ]
        }
      ]
    },
    {
      "cell_type": "markdown",
      "source": [
        "#Eksport modelu"
      ],
      "metadata": {
        "id": "8MEy3stYZIdk"
      }
    },
    {
      "cell_type": "code",
      "source": [
        "filename = \"win_pred.pkl\"\n",
        "pickle.dump(lreg, open(filename, \"wb\"))"
      ],
      "metadata": {
        "id": "pTWYGcahZJoY"
      },
      "execution_count": 95,
      "outputs": []
    }
  ]
}